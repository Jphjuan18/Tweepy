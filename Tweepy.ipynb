{
 "cells": [
  {
   "cell_type": "code",
   "execution_count": null,
   "id": "250f9ef9",
   "metadata": {},
   "outputs": [],
   "source": [
    "#pip install tweepy"
   ]
  },
  {
   "cell_type": "code",
   "execution_count": null,
   "id": "592182a3",
   "metadata": {},
   "outputs": [],
   "source": [
    "#conda update anaconda"
   ]
  },
  {
   "cell_type": "code",
   "execution_count": 1,
   "id": "c31912cf",
   "metadata": {},
   "outputs": [],
   "source": [
    "import requests\n",
    "import pandas as pd\n",
    "import os\n",
    "import re\n",
    "import numpy as np\n",
    "from datetime import datetime"
   ]
  },
  {
   "cell_type": "code",
   "execution_count": 6,
   "id": "f55f7cdc",
   "metadata": {},
   "outputs": [
    {
     "ename": "ModuleNotFoundError",
     "evalue": "No module named 'tweepy'",
     "output_type": "error",
     "traceback": [
      "\u001b[0;31m---------------------------------------------------------------------------\u001b[0m",
      "\u001b[0;31mModuleNotFoundError\u001b[0m                       Traceback (most recent call last)",
      "\u001b[0;32m/var/folders/by/2b2gkbxs5_5fgxc6m1r9j9pr0000gn/T/ipykernel_10179/984770191.py\u001b[0m in \u001b[0;36m<module>\u001b[0;34m\u001b[0m\n\u001b[0;32m----> 1\u001b[0;31m \u001b[0;32mimport\u001b[0m \u001b[0mtweepy\u001b[0m\u001b[0;34m\u001b[0m\u001b[0;34m\u001b[0m\u001b[0m\n\u001b[0m\u001b[1;32m      2\u001b[0m \u001b[0;34m\u001b[0m\u001b[0m\n\u001b[1;32m      3\u001b[0m \u001b[0mauth\u001b[0m \u001b[0;34m=\u001b[0m \u001b[0mtweepy\u001b[0m\u001b[0;34m.\u001b[0m\u001b[0mOAuthHandler\u001b[0m\u001b[0;34m(\u001b[0m\u001b[0;34m\"KwPWvwjQk7xvaSEmCk5L26JlA\"\u001b[0m\u001b[0;34m,\u001b[0m \u001b[0;34m\"xJ1sNkr3RQy9Qtv1De8wVpKhrm2788QvTY5Bdyxk9MASurWWhp\"\u001b[0m\u001b[0;34m)\u001b[0m\u001b[0;34m\u001b[0m\u001b[0;34m\u001b[0m\u001b[0m\n\u001b[1;32m      4\u001b[0m \u001b[0mauth\u001b[0m\u001b[0;34m.\u001b[0m\u001b[0mset_access_token\u001b[0m\u001b[0;34m(\u001b[0m\u001b[0;34m\"1010331337-5qioBLy5fmAO3GPUGY9bAqOd7K2wQ9XyIkiLGyH\"\u001b[0m\u001b[0;34m,\u001b[0m \u001b[0;34m\"eRJKsisx9ey5CyFacyJHvk7GiNUtQq69NZ0yHOJJtS6gO\"\u001b[0m\u001b[0;34m)\u001b[0m\u001b[0;34m\u001b[0m\u001b[0;34m\u001b[0m\u001b[0m\n\u001b[1;32m      5\u001b[0m \u001b[0;34m\u001b[0m\u001b[0m\n",
      "\u001b[0;31mModuleNotFoundError\u001b[0m: No module named 'tweepy'"
     ]
    }
   ],
   "source": [
    "import tweepy\n",
    "\n",
    "auth = tweepy.OAuthHandler(\"KwPWvwjQk7xvaSEmCk5L26JlA\", \"xJ1sNkr3RQy9Qtv1De8wVpKhrm2788QvTY5Bdyxk9MASurWWhp\")\n",
    "auth.set_access_token(\"1010331337-5qioBLy5fmAO3GPUGY9bAqOd7K2wQ9XyIkiLGyH\", \"eRJKsisx9ey5CyFacyJHvk7GiNUtQq69NZ0yHOJJtS6gO\")\n",
    "\n",
    "api = tweepy.API(auth)"
   ]
  },
  {
   "cell_type": "code",
   "execution_count": 4,
   "id": "617dd555",
   "metadata": {},
   "outputs": [],
   "source": [
    "user = 'SplashyWhales' #elonmusk, unusual_whales, SplashyWhales\n",
    "count = 200"
   ]
  },
  {
   "cell_type": "code",
   "execution_count": 5,
   "id": "6e4828f7",
   "metadata": {},
   "outputs": [
    {
     "ename": "NameError",
     "evalue": "name 'api' is not defined",
     "output_type": "error",
     "traceback": [
      "\u001b[0;31m---------------------------------------------------------------------------\u001b[0m",
      "\u001b[0;31mNameError\u001b[0m                                 Traceback (most recent call last)",
      "\u001b[0;32m/var/folders/by/2b2gkbxs5_5fgxc6m1r9j9pr0000gn/T/ipykernel_10179/4131883802.py\u001b[0m in \u001b[0;36m<module>\u001b[0;34m\u001b[0m\n\u001b[1;32m      3\u001b[0m \u001b[0;31m#lookup = api.lookup_users(screen_name='elonmusk')\u001b[0m\u001b[0;34m\u001b[0m\u001b[0;34m\u001b[0m\u001b[0m\n\u001b[1;32m      4\u001b[0m \u001b[0;31m#search = api.search_tweets(q=True)\u001b[0m\u001b[0;34m\u001b[0m\u001b[0;34m\u001b[0m\u001b[0m\n\u001b[0;32m----> 5\u001b[0;31m \u001b[0mtweets\u001b[0m \u001b[0;34m=\u001b[0m \u001b[0mapi\u001b[0m\u001b[0;34m.\u001b[0m\u001b[0muser_timeline\u001b[0m\u001b[0;34m(\u001b[0m\u001b[0mscreen_name\u001b[0m\u001b[0;34m=\u001b[0m\u001b[0muser\u001b[0m\u001b[0;34m,\u001b[0m \u001b[0mcount\u001b[0m\u001b[0;34m=\u001b[0m\u001b[0mcount\u001b[0m\u001b[0;34m,\u001b[0m \u001b[0mtweet_mode\u001b[0m\u001b[0;34m=\u001b[0m\u001b[0;34m'extended'\u001b[0m\u001b[0;34m)\u001b[0m\u001b[0;34m\u001b[0m\u001b[0;34m\u001b[0m\u001b[0m\n\u001b[0m",
      "\u001b[0;31mNameError\u001b[0m: name 'api' is not defined"
     ]
    }
   ],
   "source": [
    "#user = api.get_user(screen_name='elonmusk')\n",
    "#trend = api.available_trends()\n",
    "#lookup = api.lookup_users(screen_name='elonmusk')\n",
    "#search = api.search_tweets(q=True)\n",
    "tweets = api.user_timeline(screen_name=user, count=count, tweet_mode='extended')"
   ]
  },
  {
   "cell_type": "code",
   "execution_count": null,
   "id": "ce28f20d",
   "metadata": {},
   "outputs": [],
   "source": [
    "#tweets"
   ]
  },
  {
   "cell_type": "code",
   "execution_count": null,
   "id": "e97a6c0d",
   "metadata": {},
   "outputs": [],
   "source": [
    "columns = ['User', 'Tweet']\n",
    "data = []"
   ]
  },
  {
   "cell_type": "code",
   "execution_count": null,
   "id": "e424c3e1",
   "metadata": {},
   "outputs": [],
   "source": [
    "for tweet in tweets:\n",
    "        data.append([tweet.user.screen_name, tweet.full_text])"
   ]
  },
  {
   "cell_type": "code",
   "execution_count": null,
   "id": "9eae9a14",
   "metadata": {},
   "outputs": [],
   "source": [
    "df = pd.DataFrame(data, columns=columns)"
   ]
  },
  {
   "cell_type": "code",
   "execution_count": null,
   "id": "215b7278",
   "metadata": {},
   "outputs": [],
   "source": [
    "#Split tweets into their own category\n",
    "sub = df['Tweet'].str.split(' ', n = 5, expand = True)"
   ]
  },
  {
   "cell_type": "code",
   "execution_count": null,
   "id": "e6c2aa0a",
   "metadata": {},
   "outputs": [],
   "source": [
    "#sub[4]"
   ]
  },
  {
   "cell_type": "code",
   "execution_count": null,
   "id": "59b56bdf",
   "metadata": {},
   "outputs": [],
   "source": [
    "subd = {'4':[]}"
   ]
  },
  {
   "cell_type": "code",
   "execution_count": null,
   "id": "d3deda7d",
   "metadata": {},
   "outputs": [],
   "source": [
    "#Remove bracket from characters from date\n",
    "for x in sub[4]:\n",
    "        subd['4'].append(re.sub('[[]', \"\", x)) #[@,$,\\D]"
   ]
  },
  {
   "cell_type": "code",
   "execution_count": null,
   "id": "4d2c3289",
   "metadata": {},
   "outputs": [],
   "source": [
    "#testd = {'date':[]}"
   ]
  },
  {
   "cell_type": "code",
   "execution_count": null,
   "id": "6b135101",
   "metadata": {},
   "outputs": [],
   "source": [
    "#for i in subd['4']:\n",
    "#        w = datetime.strptime(i, '%d/%m/%y')errors='coerce'\n",
    "#        testd['date'].append(w)"
   ]
  },
  {
   "cell_type": "code",
   "execution_count": null,
   "id": "a086ab2a",
   "metadata": {},
   "outputs": [],
   "source": [
    "#testd['date']\n",
    "### subp['4']"
   ]
  },
  {
   "cell_type": "code",
   "execution_count": null,
   "id": "cb5bbac8",
   "metadata": {},
   "outputs": [],
   "source": [
    "subp = {'3':[]}"
   ]
  },
  {
   "cell_type": "code",
   "execution_count": null,
   "id": "9f2707f6",
   "metadata": {},
   "outputs": [],
   "source": [
    "#Remove non numerical characters from Price\n",
    "for x in sub[3]:\n",
    "        subp['3'].append(re.sub('[@,$]', \"\", x)) #[@,$,\\D]"
   ]
  },
  {
   "cell_type": "code",
   "execution_count": null,
   "id": "77dbd781",
   "metadata": {},
   "outputs": [],
   "source": [
    "subp['3'][0:8]"
   ]
  },
  {
   "cell_type": "code",
   "execution_count": null,
   "id": "3757686e",
   "metadata": {},
   "outputs": [],
   "source": [
    "subc = {'1':[]}"
   ]
  },
  {
   "cell_type": "code",
   "execution_count": null,
   "id": "b508ae20",
   "metadata": {},
   "outputs": [],
   "source": [
    "#Replace #bitcoin with $BTC\n",
    "for x in sub[1]:\n",
    "        subc['1'].append(re.sub('#bitcoin', \"$BTC\", x)) #[@,$,\\D]"
   ]
  },
  {
   "cell_type": "code",
   "execution_count": null,
   "id": "cd2bc2f3",
   "metadata": {},
   "outputs": [],
   "source": [
    "subc['1'][0:8]"
   ]
  },
  {
   "cell_type": "code",
   "execution_count": null,
   "id": "a008afde",
   "metadata": {},
   "outputs": [],
   "source": [
    "suba = {'0':[]}"
   ]
  },
  {
   "cell_type": "code",
   "execution_count": null,
   "id": "0d6dd1eb",
   "metadata": {},
   "outputs": [],
   "source": [
    "#Remove non numerical characters from Amount\n",
    "for x in sub[0]:\n",
    "        suba['0'].append(re.sub(\"[\\D]\", \"\", x))#[^0-9]"
   ]
  },
  {
   "cell_type": "code",
   "execution_count": null,
   "id": "d052b74b",
   "metadata": {},
   "outputs": [],
   "source": [
    "###suba['0']"
   ]
  },
  {
   "cell_type": "code",
   "execution_count": null,
   "id": "72865d00",
   "metadata": {},
   "outputs": [],
   "source": [
    "subs = {'Amount': [], 'Coin':[], 'Action':[], 'Price':[], 'Date':[]}"
   ]
  },
  {
   "cell_type": "code",
   "execution_count": null,
   "id": "ea66c426",
   "metadata": {},
   "outputs": [],
   "source": [
    "subs['Amount'] = suba['0']\n",
    "subs['Coin'] = subc['1']\n",
    "subs['Action'] = sub[2]\n",
    "subs['Price'] = subp['3']\n",
    "subs['Date'] = subd['4']"
   ]
  },
  {
   "cell_type": "code",
   "execution_count": null,
   "id": "da50cdc1",
   "metadata": {},
   "outputs": [],
   "source": [
    "#Create a new dataframe\n",
    "sub_df = pd.DataFrame(subs, columns=['Amount','Coin','Action','Price','Date'])"
   ]
  },
  {
   "cell_type": "code",
   "execution_count": null,
   "id": "b7953b34",
   "metadata": {},
   "outputs": [],
   "source": [
    "#Used to filter out tweets \n",
    "filters = ('LONGED','SHORTED')"
   ]
  },
  {
   "cell_type": "code",
   "execution_count": null,
   "id": "592372c0",
   "metadata": {},
   "outputs": [],
   "source": [
    "#Create new filtered dataframe\n",
    "sub_df_filtered = sub_df[sub_df['Action'].isin(filters)]"
   ]
  },
  {
   "cell_type": "code",
   "execution_count": null,
   "id": "53bfb0f2",
   "metadata": {},
   "outputs": [],
   "source": [
    "#Convert Date to Datetime\n",
    "sub_df_filtered['Date'] = pd.to_datetime(sub_df_filtered['Date'], format = '%d/%m/%y')"
   ]
  },
  {
   "cell_type": "code",
   "execution_count": null,
   "id": "d8f29250",
   "metadata": {},
   "outputs": [],
   "source": [
    "#Convert Price to float\n",
    "sub_df_filtered.loc[:,'Price'] = pd.to_numeric(sub_df_filtered['Price'],errors='coerce')"
   ]
  },
  {
   "cell_type": "code",
   "execution_count": null,
   "id": "dff1ee45",
   "metadata": {},
   "outputs": [],
   "source": [
    "#Convert Amount to int\n",
    "sub_df_filtered.loc[:,'Amount'] = pd.to_numeric(sub_df_filtered['Amount'],errors='coerce')"
   ]
  },
  {
   "cell_type": "code",
   "execution_count": null,
   "id": "11fd3bbe",
   "metadata": {},
   "outputs": [],
   "source": [
    "sub_df_filtered.info()"
   ]
  },
  {
   "cell_type": "code",
   "execution_count": null,
   "id": "8606091c",
   "metadata": {},
   "outputs": [],
   "source": [
    "sub_df_filtered"
   ]
  },
  {
   "cell_type": "code",
   "execution_count": null,
   "id": "bc98476a",
   "metadata": {},
   "outputs": [],
   "source": [
    "#from pymongo import MongoClient"
   ]
  },
  {
   "cell_type": "code",
   "execution_count": null,
   "id": "c3ef9aa4",
   "metadata": {},
   "outputs": [],
   "source": [
    "#client = MongoClient()\n",
    "#db = client['Twitter']\n",
    "#collection = db ['sw']"
   ]
  },
  {
   "cell_type": "code",
   "execution_count": null,
   "id": "9a465e74",
   "metadata": {},
   "outputs": [],
   "source": [
    "#sub_df_filtered.to_dict('records')"
   ]
  },
  {
   "cell_type": "code",
   "execution_count": null,
   "id": "30bb898b",
   "metadata": {},
   "outputs": [],
   "source": [
    "#collection.insert_many(sub_df_filtered.to_dict('records'))"
   ]
  },
  {
   "cell_type": "code",
   "execution_count": null,
   "id": "d46a3184",
   "metadata": {},
   "outputs": [],
   "source": [
    "import seaborn as sns\n",
    "import matplotlib.pyplot as plt"
   ]
  },
  {
   "cell_type": "code",
   "execution_count": null,
   "id": "250c4e2e",
   "metadata": {},
   "outputs": [],
   "source": [
    "sub_df_filtered.info()"
   ]
  },
  {
   "cell_type": "code",
   "execution_count": null,
   "id": "19af0b5e",
   "metadata": {},
   "outputs": [],
   "source": [
    "sub_df_filtered.groupby(['Coin','Action'])['Price'].mean()"
   ]
  },
  {
   "cell_type": "code",
   "execution_count": null,
   "id": "8fef7cce",
   "metadata": {},
   "outputs": [],
   "source": [
    "sub_df_filtered.groupby(['Coin','Action'])['Amount'].sum()"
   ]
  },
  {
   "cell_type": "code",
   "execution_count": null,
   "id": "317855a3",
   "metadata": {},
   "outputs": [],
   "source": [
    "sub_df_filtered.groupby(['Coin','Action'])['Amount'].sum().unstack().plot(kind = 'bar', color = ('green','red'))"
   ]
  },
  {
   "cell_type": "code",
   "execution_count": null,
   "id": "1943e1fa",
   "metadata": {},
   "outputs": [],
   "source": [
    "sub_df_filtered.groupby(['Coin'])['Amount'].sum()"
   ]
  }
 ],
 "metadata": {
  "interpreter": {
   "hash": "370f412194a76f5206d12fa15a737c78c736423b758eeabf0b02c996f1d51276"
  },
  "kernelspec": {
   "display_name": "Python 3.9.7 ('base')",
   "language": "python",
   "name": "python3"
  },
  "language_info": {
   "codemirror_mode": {
    "name": "ipython",
    "version": 3
   },
   "file_extension": ".py",
   "mimetype": "text/x-python",
   "name": "python",
   "nbconvert_exporter": "python",
   "pygments_lexer": "ipython3",
   "version": "3.9.7"
  }
 },
 "nbformat": 4,
 "nbformat_minor": 5
}
